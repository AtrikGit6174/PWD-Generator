{
  "nbformat": 4,
  "nbformat_minor": 0,
  "metadata": {
    "colab": {
      "name": "PWD_Generator.ipynb",
      "provenance": [],
      "collapsed_sections": [],
      "authorship_tag": "ABX9TyOfQdc+7g0AMxdTQlUaayV/",
      "include_colab_link": true
    },
    "kernelspec": {
      "name": "python3",
      "display_name": "Python 3"
    },
    "language_info": {
      "name": "python"
    }
  },
  "cells": [
    {
      "cell_type": "markdown",
      "metadata": {
        "id": "view-in-github",
        "colab_type": "text"
      },
      "source": [
        "<a href=\"https://colab.research.google.com/github/AtrikGit6174/PWD-Generator/blob/main/PWD_Generator.ipynb\" target=\"_parent\"><img src=\"https://colab.research.google.com/assets/colab-badge.svg\" alt=\"Open In Colab\"/></a>"
      ]
    },
    {
      "cell_type": "code",
      "metadata": {
        "id": "-JlL11EItRd8"
      },
      "source": [
        "#Python program for password generator  19.06.2021\n",
        "\n",
        "import string\n",
        "import secrets\n",
        "\n",
        "print(\"PASSWORD GENERATOR\");\n",
        "\n",
        "n= int(input(\"Enter the number of characters: \"));\n",
        "\n",
        "ch= \"A\";\n",
        "count= 0;\n",
        "\n",
        "while ch!=\"Y\" and ch!=\"N\":\n",
        "  if count>0:\n",
        "    ch= input(\"Enter correct response.\\nOther constraints? (Y/N): \");\n",
        "  else:\n",
        "    ch= input(\"Other constraints? (Y/N): \");\n",
        "    count= count+1;\n",
        "  \n",
        "  ch= ch.upper();\n",
        "\n",
        "while ch==\"Y\":\n",
        "  print(\"Enter 0 for the absence of the constraint.\");\n",
        "  signs= int(input (\"Enter the number of special symbols: \"));\n",
        "  digits= int(input (\"Enter the number of digits: \"));\n",
        "  small= int(input (\"Enter the number of small letters: \"));\n",
        "  caps= int(input (\"Enter the number of capital letters: \"));\n",
        "\n",
        "  if signs+digits+small+caps>n:\n",
        "    print(\"Error, number of constraints is greater than total number of characters. Re-enter correctly.\");\n",
        "  \n",
        "  else:\n",
        "    ch= \"A\";\n",
        "\n",
        "pwd= list();\n",
        "if ch==\"A\":\n",
        "  pwd.extend(secrets.choice(string.punctuation) for i in range(signs));\n",
        "  #print(pwd);\n",
        "  pwd.extend(secrets.choice(string.digits) for i in range(digits));\n",
        "  #print(pwd);\n",
        "  pwd.extend(secrets.choice(string.ascii_lowercase) for i in range(small));\n",
        "  #print(pwd);\n",
        "  pwd.extend(secrets.choice(string.ascii_uppercase) for i in range(caps));\n",
        "  #print(pwd);\n",
        "  pwd.extend(secrets.choice(string.ascii_letters + string.digits + string.punctuation) for i in range(n-(signs+digits+small+caps)));\n",
        "  #print(pwd);\n",
        "\n",
        "  count= n;\n",
        "  #pwd= [char for char in pwd];\n",
        "\n",
        "  while count>0:\n",
        "    key1= secrets.randbelow(n);\n",
        "    key2= secrets.randbelow(n);\n",
        "\n",
        "    temp= pwd[key1];\n",
        "    pwd[key1]= pwd[key2];\n",
        "    pwd[key2]= temp;\n",
        "    count= count-1;\n",
        "\n",
        "else:\n",
        "  pwd.extend(secrets.choice(string.ascii_letters + string.digits + string.punctuation) for i in range(n));\n",
        "\n",
        "print(\"Here is your password: \" + \"\".join(item for item in pwd));\n"
      ],
      "execution_count": null,
      "outputs": []
    },
    {
      "cell_type": "code",
      "metadata": {
        "id": "R7YsEU_2Im9L"
      },
      "source": [
        "<a href=\"https://colab.research.google.com/github/googlecolab/colabtools/blob/master/notebooks/colab-github-demo.ipynb\">\n",
        "  <img src=\"https://colab.research.google.com/assets/colab-badge.svg\" alt=\"Open In Colab\"/>\n",
        "</a>"
      ],
      "execution_count": null,
      "outputs": []
    }
  ]
}